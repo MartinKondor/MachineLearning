{
 "cells": [
  {
   "cell_type": "code",
   "execution_count": 1,
   "metadata": {},
   "outputs": [
    {
     "data": {
      "text/plain": [
       "array([[ 0.,  0.,  5., ...,  0.,  0.,  0.],\n       [ 0.,  0.,  0., ..., 10.,  0.,  0.],\n       [ 0.,  0.,  0., ..., 16.,  9.,  0.],\n       ...,\n       [ 0.,  0.,  1., ...,  6.,  0.,  0.],\n       [ 0.,  0.,  2., ..., 12.,  0.,  0.],\n       [ 0.,  0., 10., ..., 12.,  1.,  0.]])"
      ]
     },
     "execution_count": 1,
     "metadata": {},
     "output_type": "execute_result"
    }
   ],
   "source": [
    "from sklearn.datasets import load_digits\n",
    "\n",
    "\n",
    "data = load_digits()\n",
    "data.data"
   ]
  },
  {
   "cell_type": "code",
   "execution_count": 2,
   "metadata": {},
   "outputs": [],
   "source": [
    "import matplotlib.pyplot as plt\n",
    "import seaborn as sns\n",
    "\n",
    "\n",
    "sns.set()\n",
    "n_of_test_plots = 4\n",
    "\n",
    "for nth_plot in range(1, n_of_test_plots + 1):\n",
    "    plt.subplot(100 + 10 * n_of_test_plots + nth_plot)\n",
    "    plt.imshow( - data.data[nth_plot - 1].reshape(8, 8), cmap='gray');\n",
    "    plt.xticks(());\n",
    "    plt.yticks(());\n",
    "    plt.title('An image of: ' + str(data.target[nth_plot - 1]))"
   ]
  },
  {
   "cell_type": "code",
   "execution_count": 3,
   "metadata": {},
   "outputs": [],
   "source": [
    "from sklearn.preprocessing import MinMaxScaler, OneHotEncoder\n",
    "from sklearn.model_selection import train_test_split\n",
    "\n",
    "\n",
    "scaler = MinMaxScaler()\n",
    "class_encoder = OneHotEncoder(categories='auto')\n",
    "\n",
    "X_train, X_test, y_train, y_test = train_test_split(data.data, data.target, test_size=.1)"
   ]
  },
  {
   "cell_type": "code",
   "execution_count": 4,
   "metadata": {},
   "outputs": [
    {
     "name": "stderr",
     "output_type": "stream",
     "text": [
      "C:\\Users\\kondorm\\AppData\\Roaming\\Python\\Python37\\site-packages\\sklearn\\preprocessing\\_encoders.py:371: FutureWarning: The handling of integer data will change in version 0.22. Currently, the categories are determined based on the range [0, max(values)], while in the future they will be determined based on the unique values.\nIf you want the future behaviour and silence this warning, you can specify \"categories='auto'\".\nIn case you used a LabelEncoder before this OneHotEncoder to convert the categories to integers, then you can now use the OneHotEncoder directly.\n  warnings.warn(msg, FutureWarning)\n"
     ]
    }
   ],
   "source": [
    "X_train_scaled = scaler.fit_transform(X_train)\n",
    "X_test_scaled = scaler.transform(X_test)\n",
    "\n",
    "y_train_encoded = class_encoder.fit_transform(y_train.reshape(-1, 1)).toarray()\n",
    "y_test_encoded = class_encoder.transform(y_test.reshape(-1, 1)).toarray()"
   ]
  },
  {
   "cell_type": "code",
   "execution_count": 5,
   "metadata": {},
   "outputs": [
    {
     "data": {
      "text/plain": [
       "(array([ 0.,  0.,  6., 16., 16.,  7.,  0.,  0.,  0.,  0., 13., 12., 15.,\n        10.,  0.,  0.,  0.,  0.,  3.,  6., 13.,  9.,  0.,  0.,  0.,  0.,\n         8., 16., 16., 15.,  6.,  0.,  0.,  0.,  1.,  9., 14.,  8.,  5.,\n         0.,  0.,  0.,  0., 11.,  9.,  0.,  0.,  0.,  0.,  0.,  4., 16.,\n         3.,  0.,  0.,  0.,  0.,  0., 10., 10.,  0.,  0.,  0.,  0.]),\n array([0., 0., 0., 0., 0., 0., 0., 1., 0., 0.]))"
      ]
     },
     "execution_count": 5,
     "metadata": {},
     "output_type": "execute_result"
    }
   ],
   "source": [
    "X_train[0], y_train_encoded[0]"
   ]
  },
  {
   "cell_type": "code",
   "execution_count": 42,
   "metadata": {},
   "outputs": [
    {
     "name": "stdout",
     "output_type": "stream",
     "text": [
      "Training model ...\n"
     ]
    },
    {
     "name": "stdout",
     "output_type": "stream",
     "text": [
      "Score on train: 1.0\nScore on test: 0.9777777777777777\n\n"
     ]
    },
    {
     "name": "stdout",
     "output_type": "stream",
     "text": [
      "Cross Selection score on train: 0.9523809523809524\n"
     ]
    },
    {
     "name": "stdout",
     "output_type": "stream",
     "text": [
      "Cross Selection score on test: 0.8111111111111112\n\nMLPClassifier(activation='relu', alpha=0.01, batch_size='auto', beta_1=0.9,\n       beta_2=0.999, early_stopping=False, epsilon=1e-08,\n       hidden_layer_sizes=[100], learning_rate='constant',\n       learning_rate_init=0.05, max_iter=175, momentum=0.9,\n       n_iter_no_change=10, nesterovs_momentum=True, power_t=0.5,\n       random_state=0, shuffle=True, solver='adam', tol=0.0001,\n       validation_fraction=0.1, verbose=False, warm_start=False)\n"
     ]
    }
   ],
   "source": [
    "import numpy as np\n",
    "from sklearn.neural_network import MLPClassifier\n",
    "from sklearn.model_selection import cross_val_score\n",
    "\n",
    "\n",
    "mlp = MLPClassifier(\n",
    "    learning_rate_init=0.05,\n",
    "    max_iter=175,\n",
    "    hidden_layer_sizes=[100],\n",
    "    alpha=0.01,\n",
    "    random_state=0\n",
    ")\n",
    "\n",
    "print('Training model ...')\n",
    "mlp.fit(X_train_scaled, y_train_encoded)\n",
    "\n",
    "print('Score on train:', mlp.score(X_train_scaled, y_train_encoded))\n",
    "print('Score on test:', mlp.score(X_test_scaled, y_test_encoded))\n",
    "print()\n",
    "print('Cross Selection score on train:', np.mean(cross_val_score(mlp, X_train_scaled, y_train_encoded, cv=3)))\n",
    "print('Cross Selection score on test:', np.mean(cross_val_score(mlp, X_test_scaled, y_test_encoded, cv=3)))\n",
    "print()\n",
    "print(mlp)"
   ]
  },
  {
   "cell_type": "code",
   "execution_count": null,
   "metadata": {},
   "outputs": [],
   "source": [
    ""
   ]
  }
 ],
 "metadata": {
  "kernelspec": {
   "display_name": "Python 3",
   "language": "python",
   "name": "python3"
  },
  "language_info": {
   "codemirror_mode": {
    "name": "ipython",
    "version": 3
   },
   "file_extension": ".py",
   "mimetype": "text/x-python",
   "name": "python",
   "nbconvert_exporter": "python",
   "pygments_lexer": "ipython3",
   "version": "3.7.0"
  }
 },
 "nbformat": 4,
 "nbformat_minor": 2
}
