{
 "cells": [
  {
   "cell_type": "code",
   "execution_count": 1,
   "metadata": {},
   "outputs": [
    {
     "data": {
      "text/plain": [
       "array([[ 0.,  0.,  5., ...,  0.,  0.,  0.],\n",
       "       [ 0.,  0.,  0., ..., 10.,  0.,  0.],\n",
       "       [ 0.,  0.,  0., ..., 16.,  9.,  0.],\n",
       "       ...,\n",
       "       [ 0.,  0.,  1., ...,  6.,  0.,  0.],\n",
       "       [ 0.,  0.,  2., ..., 12.,  0.,  0.],\n",
       "       [ 0.,  0., 10., ..., 12.,  1.,  0.]])"
      ]
     },
     "execution_count": 1,
     "metadata": {},
     "output_type": "execute_result"
    }
   ],
   "source": [
    "%matplotlib inline\n",
    "\n",
    "from sklearn.datasets import load_digits\n",
    "\n",
    "\n",
    "data = load_digits()\n",
    "data.data"
   ]
  },
  {
   "cell_type": "code",
   "execution_count": 2,
   "metadata": {},
   "outputs": [
    {
     "data": {
      "image/png": "[encoded data removed]",
      "text/plain": [
       "<Figure size 432x288 with 4 Axes>"
      ]
     },
     "metadata": {},
     "output_type": "display_data"
    }
   ],
   "source": [
    "import matplotlib.pyplot as plt\n",
    "import seaborn as sns\n",
    "\n",
    "\n",
    "sns.set()\n",
    "n_of_test_plots = 4\n",
    "\n",
    "for nth_plot in range(1, n_of_test_plots + 1):\n",
    "    plt.subplot(100 + 10 * n_of_test_plots + nth_plot)\n",
    "    plt.imshow( - data.data[nth_plot - 1].reshape(8, 8), cmap='gray');\n",
    "    plt.xticks(());\n",
    "    plt.yticks(());\n",
    "    plt.title('An image of: ' + str(data.target[nth_plot - 1]))"
   ]
  },
  {
   "cell_type": "code",
   "execution_count": 10,
   "metadata": {},
   "outputs": [],
   "source": [
    "from sklearn.preprocessing import MinMaxScaler, OneHotEncoder\n",
    "from sklearn.model_selection import train_test_split\n",
    "\n",
    "\n",
    "scaler = MinMaxScaler()\n",
    "class_encoder = OneHotEncoder(categories='auto')\n",
    "\n",
    "X_train, X_test, y_train, y_test = train_test_split(data.data, data.target, test_size=.1, random_state=1)\n",
    "\n",
    "X_train_scaled = scaler.fit_transform(X_train)\n",
    "X_test_scaled = scaler.transform(X_test)\n",
    "\n",
    "y_train_encoded = class_encoder.fit_transform(y_train.reshape(-1, 1)).toarray()\n",
    "y_test_encoded = class_encoder.transform(y_test.reshape(-1, 1)).toarray()"
   ]
  },
  {
   "cell_type": "code",
   "execution_count": 12,
   "metadata": {},
   "outputs": [
    {
     "name": "stdout",
     "output_type": "stream",
     "text": [
      "Training model ...\n",
      "Score on train: 0.9529993815708101\n",
      "Score on test: 0.9555555555555556\n",
      "\n",
      "Cross Selection score on train: 0.9542362399505256\n",
      "Cross Selection score on test: 0.8166666666666668\n",
      "\n",
      "MLPClassifier(activation='relu', alpha=0.01, batch_size='auto', beta_1=0.9,\n",
      "       beta_2=0.999, early_stopping=False, epsilon=1e-08,\n",
      "       hidden_layer_sizes=[100], learning_rate='constant',\n",
      "       learning_rate_init=0.05, max_iter=175, momentum=0.9,\n",
      "       n_iter_no_change=10, nesterovs_momentum=True, power_t=0.5,\n",
      "       random_state=2, shuffle=True, solver='adam', tol=0.0001,\n",
      "       validation_fraction=0.1, verbose=False, warm_start=False)\n"
     ]
    }
   ],
   "source": [
    "import numpy as np\n",
    "from sklearn.neural_network import MLPClassifier\n",
    "from sklearn.model_selection import cross_val_score\n",
    "\n",
    "\n",
    "mlp = MLPClassifier(\n",
    "    learning_rate_init=0.05,\n",
    "    max_iter=175,\n",
    "    hidden_layer_sizes=[100],\n",
    "    alpha=0.01,\n",
    "    random_state=2\n",
    ")\n",
    "\n",
    "print('Training model ...')\n",
    "mlp.fit(X_train_scaled, y_train_encoded)\n",
    "\n",
    "print('Score on train:', mlp.score(X_train_scaled, y_train_encoded))\n",
    "print('Score on test:', mlp.score(X_test_scaled, y_test_encoded))\n",
    "print()\n",
    "print('Cross Selection score on train:', np.mean(cross_val_score(mlp, X_train_scaled, y_train_encoded, cv=3)))\n",
    "print('Cross Selection score on test:', np.mean(cross_val_score(mlp, X_test_scaled, y_test_encoded, cv=3)))\n",
    "print()\n",
    "print(mlp)"
   ]
  }
 ],
 "metadata": {
  "kernelspec": {
   "display_name": "Python 3",
   "language": "python",
   "name": "python3"
  },
  "language_info": {
   "codemirror_mode": {
    "name": "ipython",
    "version": 3
   },
   "file_extension": ".py",
   "mimetype": "text/x-python",
   "name": "python",
   "nbconvert_exporter": "python",
   "pygments_lexer": "ipython3",
   "version": "3.7.0"
  }
 },
 "nbformat": 4,
 "nbformat_minor": 2
}
