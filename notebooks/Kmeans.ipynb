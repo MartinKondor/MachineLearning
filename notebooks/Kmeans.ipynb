{
 "cells": [
  {
   "cell_type": "code",
   "execution_count": 1,
   "metadata": {},
   "outputs": [],
   "source": [
    "import os\n",
    "import numpy as np\n",
    "import pandas as pd\n",
    "import seaborn as sns\n",
    "from nltk.stem import SnowballStemmer\n",
    "from sklearn.metrics import mean_squared_error as mse\n",
    "from sklearn.feature_extraction.text import TfidfVectorizer\n",
    "from sklearn.model_selection import train_test_split\n",
    "from matplotlib import pyplot as plt\n",
    "\n",
    "\n",
    "sns.set()\n",
    "groups = ['comp.graphics', 'comp.os.ms-windows.misc', 'comp.sys.ibm.pc.hardware', 'comp.sys.mac.hardware', 'comp.windows.x', 'sci.space']\n",
    "\n",
    "\n",
    "class StemmedTfidfVectorizer(TfidfVectorizer):\n",
    "    \n",
    "    def build_analyzer(self, stemmer=None):\n",
    "        analyzer = super(StemmedTfidfVectorizer, self).build_analyzer()\n",
    "        \n",
    "        if stemmer is None:\n",
    "            stemmer = SnowballStemmer('english')\n",
    "        \n",
    "        return lambda text: (stemmer.stem(w) for w in analyzer(text))\n",
    "\n",
    "\n",
    "def get_data(groups, type='test', N=1000):\n",
    "    X = []\n",
    "    y = []\n",
    "    \n",
    "    for group in groups:\n",
    "        crdir = os.path.join('20news-bydate/' + ('20news-bydate-train' if type=='train' else '20news-bydate-test'), group) \n",
    "\n",
    "        for file in os.listdir(crdir):\n",
    "\n",
    "            with open(os.path.join(crdir, file)) as outfile:\n",
    "                X.append( outfile.read() )\n",
    "                y.append(group)\n",
    "    \n",
    "    return np.array(X[:N]), np.array(y[:N])"
   ]
  },
  {
   "cell_type": "code",
   "execution_count": 2,
   "metadata": {},
   "outputs": [],
   "source": [
    "_X_train, _y_train = get_data(groups, 'train')\n",
    "_X_test, _y_test = get_data(groups)\n",
    "\n",
    "vectorizer = StemmedTfidfVectorizer(min_df=10, max_df=.5, stop_words='english')\n",
    "X_train = vectorizer.fit_transform(_X_train)\n",
    "X_test = vectorizer.transform(_X_test)"
   ]
  },
  {
   "cell_type": "code",
   "execution_count": 10,
   "metadata": {},
   "outputs": [
    {
     "data": {
      "text/plain": [
       "KMeans(algorithm='auto', copy_x=True, init='random', max_iter=300,\n",
       "    n_clusters=7, n_init=1, n_jobs=None, precompute_distances='auto',\n",
       "    random_state=None, tol=0.0001, verbose=0)"
      ]
     },
     "execution_count": 10,
     "metadata": {},
     "output_type": "execute_result"
    }
   ],
   "source": [
    "from sklearn.cluster import KMeans\n",
    "\n",
    "km = KMeans(n_clusters=len(groups) + 1, init='random', n_init=1)\n",
    "km.fit(X_train.toarray())"
   ]
  },
  {
   "cell_type": "code",
   "execution_count": 11,
   "metadata": {},
   "outputs": [
    {
     "name": "stdout",
     "output_type": "stream",
     "text": [
      "From: bockamp@Informatik.TU-Muenchen.DE (Florian Bockamp)\n",
      "Subject: Matrox PG-1281 CV Windows driver\n",
      "Originator: bockamp@hphalle3a.informatik.tu-muenchen.de\n",
      "Organization: Technische Universitaet Muenchen, Germany\n",
      "Lines: 22\n",
      "\n",
      "\n",
      "\n",
      "Hi!\n",
      "\n",
      "I need a Windows 3.1 driver for the Matrox PG-1281 CV\n",
      "SVGA card. \n",
      "At the moment Windows runs only in the 640x480 mode.\n",
      "If you have a driver for this card, please send it \n",
      "with the OEMSETUP.INF to \n",
      "\n",
      "bockamp@Informatik.TU-Muenchen.DE\n",
      "\n",
      "Thanks!\n",
      "\n",
      "-- \n",
      "+-----------------------------------------------------------------+\n",
      "| Florian Bockamp                                  '''            |\n",
      "| bockamp@informatik.tu-muenchen.de               (o o)           |\n",
      "+---------------------------------------------oOO--( )--OOo-------+\n",
      "|                                                   -             |\n",
      "|         \"It's not a bug, it's an undocumented feature!\"         |\n",
      "+-----------------------------------------------------------------+\n",
      "\n",
      "Label: comp.os.ms-windows.misc\n"
     ]
    }
   ],
   "source": [
    "new_post = _X_test[50]\n",
    "new_post_label = km.predict(vectorizer.transform([new_post]))[0]\n",
    "similar_indices  = (km.labels_ == new_post_label).nonzero()\n",
    "\n",
    "print(new_post)\n",
    "print('Label:', groups[new_post_label])"
   ]
  },
  {
   "cell_type": "code",
   "execution_count": 12,
   "metadata": {},
   "outputs": [
    {
     "data": {
      "text/plain": [
       "array(['comp.graphics', 'comp.graphics', 'comp.graphics', 'comp.graphics',\n",
       "       'comp.graphics', 'comp.graphics', 'comp.graphics', 'comp.graphics',\n",
       "       'comp.graphics', 'comp.graphics', 'comp.graphics', 'comp.graphics',\n",
       "       'comp.graphics', 'comp.graphics', 'comp.graphics', 'comp.graphics',\n",
       "       'comp.graphics', 'comp.graphics', 'comp.graphics', 'comp.graphics',\n",
       "       'comp.graphics', 'comp.graphics', 'comp.graphics', 'comp.graphics',\n",
       "       'comp.graphics', 'comp.graphics', 'comp.os.ms-windows.misc',\n",
       "       'comp.os.ms-windows.misc', 'comp.os.ms-windows.misc',\n",
       "       'comp.os.ms-windows.misc', 'comp.os.ms-windows.misc',\n",
       "       'comp.os.ms-windows.misc', 'comp.os.ms-windows.misc',\n",
       "       'comp.os.ms-windows.misc', 'comp.os.ms-windows.misc',\n",
       "       'comp.os.ms-windows.misc', 'comp.os.ms-windows.misc',\n",
       "       'comp.os.ms-windows.misc', 'comp.os.ms-windows.misc',\n",
       "       'comp.os.ms-windows.misc', 'comp.os.ms-windows.misc',\n",
       "       'comp.os.ms-windows.misc', 'comp.os.ms-windows.misc',\n",
       "       'comp.os.ms-windows.misc', 'comp.os.ms-windows.misc',\n",
       "       'comp.os.ms-windows.misc', 'comp.os.ms-windows.misc',\n",
       "       'comp.os.ms-windows.misc', 'comp.os.ms-windows.misc',\n",
       "       'comp.os.ms-windows.misc', 'comp.os.ms-windows.misc',\n",
       "       'comp.os.ms-windows.misc', 'comp.os.ms-windows.misc',\n",
       "       'comp.os.ms-windows.misc', 'comp.os.ms-windows.misc',\n",
       "       'comp.os.ms-windows.misc', 'comp.os.ms-windows.misc',\n",
       "       'comp.os.ms-windows.misc', 'comp.os.ms-windows.misc',\n",
       "       'comp.os.ms-windows.misc', 'comp.os.ms-windows.misc',\n",
       "       'comp.os.ms-windows.misc', 'comp.os.ms-windows.misc',\n",
       "       'comp.os.ms-windows.misc', 'comp.os.ms-windows.misc',\n",
       "       'comp.os.ms-windows.misc', 'comp.os.ms-windows.misc',\n",
       "       'comp.os.ms-windows.misc', 'comp.os.ms-windows.misc',\n",
       "       'comp.os.ms-windows.misc', 'comp.os.ms-windows.misc',\n",
       "       'comp.os.ms-windows.misc', 'comp.os.ms-windows.misc',\n",
       "       'comp.os.ms-windows.misc', 'comp.os.ms-windows.misc',\n",
       "       'comp.os.ms-windows.misc', 'comp.os.ms-windows.misc',\n",
       "       'comp.os.ms-windows.misc', 'comp.os.ms-windows.misc',\n",
       "       'comp.os.ms-windows.misc', 'comp.os.ms-windows.misc',\n",
       "       'comp.os.ms-windows.misc', 'comp.os.ms-windows.misc',\n",
       "       'comp.os.ms-windows.misc', 'comp.os.ms-windows.misc',\n",
       "       'comp.os.ms-windows.misc', 'comp.os.ms-windows.misc',\n",
       "       'comp.os.ms-windows.misc', 'comp.os.ms-windows.misc',\n",
       "       'comp.os.ms-windows.misc'], dtype='<U23')"
      ]
     },
     "execution_count": 12,
     "metadata": {},
     "output_type": "execute_result"
    }
   ],
   "source": [
    "_y_train[similar_indices]"
   ]
  },
  {
   "cell_type": "code",
   "execution_count": 13,
   "metadata": {},
   "outputs": [
    {
     "name": "stdout",
     "output_type": "stream",
     "text": [
      "From: 55526@brahms.udel.edu (Oliver P Weatherbee)\n",
      "Subject: New Windows drivers for Cirrus GD5426 graphic cards!\n",
      "Article-I.D.: news.C5x27u.D4F\n",
      "Organization: University of Delaware\n",
      "Lines: 42\n",
      "Nntp-Posting-Host: brahms.udel.edu\n",
      "\n",
      "\n",
      "I have uploaded the most recent Windows drivers for the Cirrus GD5426 \n",
      "chip based display cards to the uploads directory at ftp.cica.indiana.edu\n",
      " (file is 5426dr13.zip). They're very recent, I downloaded them from the \n",
      "Cirrus BBS (570-226-2365) last night. If you are unable to get them there, \n",
      "email me and maybe I can upload them to some other sites as well.  \n",
      "I have a local bus based card (VL24 Bitblaster from Micron) but I think \n",
      "the drivers work with ISA cards (or at least includes drivers for them).\n",
      "\n",
      "I found the new drivers to be a significant improvement over the 1.2 version, \n",
      "improving my graphic winmarks (v3.11) by about 2 million (7.77 to 9.88) \n",
      "although this could be the result of intentional benchmark cheating on \n",
      "Cirrus's part but I don't think so.\n",
      "\n",
      "From Steve Gibson's (columnist for Info World) graphic card comparisons \n",
      "(also found at the cica ftp site under the name winadv.zip) I extracted the \n",
      "following for the sake of comparison:\n",
      "\n",
      "\t\t\t\t\t\t\tWintach\n",
      "             \t\tWinbn3.11\tWord\tSprsht\tCad\tPaint\tOverall\n",
      "Steve's system:\n",
      "486/33 VLB:\n",
      "ATI Graphics Ultra Pro\t  9.33\t\t10.34\t 20.78\t8.28\t14.90\t 13.58\n",
      "\n",
      "my system -\n",
      "486sx/33 VLB:\n",
      "VL24 Bitblaster\t\t  9.88\t\t 8.65\t 11.71\t18.84\t15.40\t 13.65\n",
      "\n",
      "\n",
      "Its no Viper, but I think its a hell of a deal at about a third of the cost of \n",
      "the ATI card and when compared to the other cards included in Gibson's review.\n",
      "\n",
      "Micron system owner's, I would be interested to hear your opinions on the \n",
      "DTC 2270VL local bus disk controller. My system came with a Maxtor 7120 \n",
      "drive (120 MB) and at first was only giving me disk winmarks of about 16 Kb/s, \n",
      "I am now at 22 Kb/s. Is this about as good as it gets? I can't get a Norton's\n",
      "sysinfo disk reading because the contoller intercepts the calls, at \n",
      "least that was what the program said.\n",
      "\n",
      "\n",
      "Oliver Weatherbee\n",
      "oliver@earthview\n",
      "\n"
     ]
    }
   ],
   "source": [
    "print(_X_train[similar_indices][-2])"
   ]
  },
  {
   "cell_type": "code",
   "execution_count": null,
   "metadata": {},
   "outputs": [],
   "source": []
  }
 ],
 "metadata": {
  "kernelspec": {
   "display_name": "Python 3",
   "language": "python",
   "name": "python3"
  },
  "language_info": {
   "codemirror_mode": {
    "name": "ipython",
    "version": 3
   },
   "file_extension": ".py",
   "mimetype": "text/x-python",
   "name": "python",
   "nbconvert_exporter": "python",
   "pygments_lexer": "ipython3",
   "version": "3.7.0"
  }
 },
 "nbformat": 4,
 "nbformat_minor": 2
}
