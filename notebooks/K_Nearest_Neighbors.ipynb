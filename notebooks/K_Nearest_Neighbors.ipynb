{
 "cells": [
  {
   "cell_type": "code",
   "execution_count": 2,
   "metadata": {},
   "outputs": [
    {
     "name": "stdout",
     "output_type": "stream",
     "text": [
      "Accuracy: 96.667 %\n"
     ]
    },
    {
     "data": {
      "image/png": "[encoded data removed]",
      "text/plain": [
       "<Figure size 432x288 with 1 Axes>"
      ]
     },
     "metadata": {},
     "output_type": "display_data"
    }
   ],
   "source": [
    "import numpy as np\n",
    "from matplotlib import pyplot as plt\n",
    "from operator import itemgetter\n",
    "from sklearn.model_selection import train_test_split\n",
    "from sklearn.datasets import load_iris\n",
    "\n",
    "\n",
    "k = 5\n",
    "np.random.seed(3)\n",
    "D = load_iris()\n",
    "X_train, X_test, y_train, y_test = train_test_split(D.data, D.target, test_size=.2)\n",
    "\n",
    "\n",
    "def getNNs(i, k=5):\n",
    "    \"\"\"\n",
    "    :param i: index of the test set instance\n",
    "    :param k: how many n.s?\n",
    "    :return list: [...[class_of_x_train, distance_from_x_train]]\n",
    "    \"\"\"\n",
    "    global X_train, y_train\n",
    "    distances = []\n",
    "    \n",
    "    for j in range(0 if i - k <= 0 else i - k, i + k):\n",
    "        if j == i: continue\n",
    "\n",
    "        # calculate the euclidean distance\n",
    "        d = 0\n",
    "        for l in range(X_train.shape[1]):\n",
    "            d += (X_test[i][l] - X_train[j][l])**2\n",
    "        \n",
    "        distances.append([y_train[j], np.sqrt(d)])\n",
    "\n",
    "    return distances\n",
    "\n",
    "\n",
    "def accuracy(y, y_hat):\n",
    "    if y.shape != y_hat.shape:\n",
    "        raise Exception('Y and Y_hat size is not aliged')\n",
    "    g = 0 \n",
    "    for i in range(y.shape[0]):\n",
    "        if y[i] == y_hat[i]:\n",
    "            g += 1\n",
    "    return (100*g) / y.shape[0]\n",
    "\n",
    "\n",
    "y_hat = []\n",
    "\n",
    "for testInst in X_test:\n",
    "    distances = []\n",
    "\n",
    "    # calculate the euclidean distacnce from every training point\n",
    "    for j in range(X_train.shape[0]):\n",
    "        distances.append([j, ((testInst - X_train[j])**2).sum()**(1/2)])\n",
    "\n",
    "    # sort them, get the first \"k\"\n",
    "    # and collect the individual classes in these \"k\"\n",
    "    distances = sorted(distances, key=lambda x: x[1])[:k]    \n",
    "    classes = {y_train[_[0]]: 0 for _ in distances}\n",
    "   \n",
    "    if len(classes.items()) == 1:\n",
    "        y_hat.append( list(classes.items())[0][0] )\n",
    "        continue\n",
    "        \n",
    "    # count and assign the number of occurences on each \n",
    "    # neighbor point's individual classes\n",
    "    for d in list(distances):\n",
    "        classes[y_train[d[0]]] += 1\n",
    "    \n",
    "    # sort them by the number of occurences around testInst\n",
    "    # and get the biggest one\n",
    "    y_hat.append( sorted(classes.items(), key=lambda x: x[1])[-1][0] )\n",
    "\n",
    "    \n",
    "y_hat = np.array(y_hat)\n",
    "\n",
    "# calculate accuracy\n",
    "print('Accuracy:', round(accuracy(y_test, y_hat), 3), '%')\n",
    "\n",
    "plt.scatter(D.data[:, 2], D.data[:, 3], c=D.target, cmap=plt.cm.coolwarm)\n",
    "plt.xticks(())\n",
    "plt.yticks(())\n",
    "plt.xlabel(D.feature_names[2])\n",
    "plt.ylabel(D.feature_names[3])\n",
    "plt.show()"
   ]
  },
  {
   "cell_type": "code",
   "execution_count": null,
   "metadata": {},
   "outputs": [],
   "source": []
  }
 ],
 "metadata": {
  "kernelspec": {
   "display_name": "Python 3",
   "language": "python",
   "name": "python3"
  },
  "language_info": {
   "codemirror_mode": {
    "name": "ipython",
    "version": 3
   },
   "file_extension": ".py",
   "mimetype": "text/x-python",
   "name": "python",
   "nbconvert_exporter": "python",
   "pygments_lexer": "ipython3",
   "version": "3.7.0"
  }
 },
 "nbformat": 4,
 "nbformat_minor": 2
}
