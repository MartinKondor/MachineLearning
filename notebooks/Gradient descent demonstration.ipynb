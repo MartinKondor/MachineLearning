{
 "cells": [
  {
   "cell_type": "markdown",
   "metadata": {},
   "source": [
    "# Gradient descent demonstration\n",
    "\n",
    "In this notebook I am going to demonstrate how the gradient descent optimization algorithm works.\n",
    "\n",
    "I will use a linear regression model as an example model."
   ]
  },
  {
   "cell_type": "code",
   "execution_count": 10,
   "metadata": {},
   "outputs": [],
   "source": [
    "import numpy as np\n",
    "import pandas as pd\n",
    "import seaborn as sns\n",
    "from matplotlib import pyplot as plt\n",
    "from sklearn.metrics import mean_squared_error"
   ]
  },
  {
   "cell_type": "markdown",
   "metadata": {},
   "source": [
    "First, let's generate some data for our model with a linear function."
   ]
  },
  {
   "cell_type": "code",
   "execution_count": 11,
   "metadata": {},
   "outputs": [
    {
     "data": {
      "image/png": "[encoded data removed]",
      "text/plain": [
       "<Figure size 432x288 with 1 Axes>"
      ]
     },
     "metadata": {},
     "output_type": "display_data"
    }
   ],
   "source": [
    "sns.set()\n",
    "N = 100\n",
    "\n",
    "def f(x):\n",
    "    return 3*x + 2 + 10*x*np.random.random()\n",
    "\n",
    "\n",
    "# generating the dataset\n",
    "X = [x for x in range(N)]\n",
    "y = [f(x) for x in X]\n",
    "\n",
    "plt.scatter(X, y)\n",
    "plt.show()"
   ]
  },
  {
   "cell_type": "markdown",
   "metadata": {},
   "source": [
    "After generating the model, we can start to think about gradient descent.\n",
    "\n",
    "The goal of linear regression is to find a ```slope``` and an ```intercept``` which satisfies the equation:\n",
    "\n",
    "\\begin{align}\n",
    "\\textbf{Y} = a\\textbf{X} + b\n",
    "\\end{align}\n",
    "\n",
    "Where ```a``` is the slope, ```b``` is the intercept as real numbers, ```Y``` is the target, and ```X``` is the input vector or matrix.  \n",
    "\n",
    "Since satisfying this equation is impossible because of the irreducible error, the linear regression tries to find ```a``` and ```b``` such that the ```MSE = mean squared error```, or in this case the loss function is minimized.\n",
    "\n",
    "\\begin{align}\n",
    "\\textbf{MSE} = \\frac{1}{N}\\sum_{i=1}^N{(y_i - \\hat{y})^2}\n",
    "\\end{align}\n",
    "\n",
    "We can substutue in the linear equation:\n",
    "\n",
    "\\begin{align}\n",
    "\\textbf{MSE} = \\frac{1}{N}\\sum_{i=1}^N{(y_i - (a\\textbf{X} + b))^2}\n",
    "\\end{align}"
   ]
  },
  {
   "cell_type": "code",
   "execution_count": null,
   "metadata": {},
   "outputs": [],
   "source": []
  }
 ],
 "metadata": {
  "kernelspec": {
   "display_name": "Python 3",
   "language": "python",
   "name": "python3"
  },
  "language_info": {
   "codemirror_mode": {
    "name": "ipython",
    "version": 3
   },
   "file_extension": ".py",
   "mimetype": "text/x-python",
   "name": "python",
   "nbconvert_exporter": "python",
   "pygments_lexer": "ipython3",
   "version": "3.6.7"
  }
 },
 "nbformat": 4,
 "nbformat_minor": 2
}
