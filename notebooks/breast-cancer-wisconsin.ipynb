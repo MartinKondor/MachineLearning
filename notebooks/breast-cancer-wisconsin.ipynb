{
 "cells": [
  {
   "cell_type": "code",
   "execution_count": 7,
   "metadata": {},
   "outputs": [
    {
     "name": "stdout",
     "output_type": "stream",
     "text": [
      "Success precentage: 97.28%\n",
      "\n",
      "Target:\n",
      "\tBenign: 458 (65.5%)\n",
      "\tMalignant: 241 (34.5%)\n",
      "Test:\n",
      "\tBenign: 440 (62.95%))\n",
      "\tMalignant: 259 (37.05%)\n"
     ]
    }
   ],
   "source": [
    "import numpy as np\n",
    "\n",
    "\n",
    "with open(r'C:\\Files\\Datasets\\breast-cancer-wisconsin\\breast-cancer-wisconsin.data', 'r') as file:\n",
    "    data = np.array([[float(col) if col != '?' else 0 for col in line.split(',')] for line in file.read().splitlines()])\n",
    "\n",
    "   \n",
    "X = data[:, 1:-1]\n",
    "t = (data[:, -1:] - 2) / 2\n",
    "\n",
    "N = X.shape[0] * X.shape[1]\n",
    "mean = X.sum() / N\n",
    "\n",
    "# standard deviation from the mean cubed\n",
    "sd = (((X - mean)**2).sum() / N)**(3/2)\n",
    "\n",
    "bad, good = 0, 0\n",
    "error = 0\n",
    "\n",
    "\n",
    "for i in range(X.shape[0]):\n",
    "        \n",
    "    if X[i].sum() <= sd: \n",
    "        good += 1\n",
    "    else:\n",
    "        bad += 1\n",
    "        error += abs(t[i][0] - 1)\n",
    "\n",
    "\n",
    "p = X.shape[0] / 100\n",
    "\n",
    "print('Success precentage:', str(round(100 - error / p, 2)) + '%')\n",
    "print('\\nTarget:')\n",
    "print('\\tBenign: 458 (65.5%)\\n\\tMalignant: 241 (34.5%)')\n",
    "\n",
    "print('Test:')\n",
    "print('\\tBenign: {} ({}%))'.format(good, round(good / p, 2)))\n",
    "print('\\tMalignant: {} ({}%)'.format(bad, round(bad / p, 2)))\n"
   ]
  },
  {
   "cell_type": "markdown",
   "metadata": {},
   "source": [
    "# (My first try ever) breast-cancer-wisconsin\n",
    "\n",
    "Linear Regression of the [Breast Cancer Wisconsin (Prognostic) Data Set](https://archive.ics.uci.edu/ml/datasets/Breast+Cancer+Wisconsin+%28Prognostic%29).\n",
    "\n",
    "I get"
   ]
  },
  {
   "cell_type": "markdown",
   "metadata": {},
   "source": [
    "$$\\phi = \\sqrt{\\frac{1}{N}\\sum_{i=0}^{N}(x_i - \\bar{X})^2}$$"
   ]
  },
  {
   "cell_type": "markdown",
   "metadata": {},
   "source": [
    "Then I do\n"
   ]
  },
  {
   "cell_type": "markdown",
   "metadata": {},
   "source": [
    "$$\\phi := \\phi^3$$"
   ]
  },
  {
   "cell_type": "markdown",
   "metadata": {},
   "source": [
    "The prediction goes as"
   ]
  },
  {
   "cell_type": "markdown",
   "metadata": {},
   "source": [
    "$$s_i=\\sum_{j=0}^{N_1} X_{ij}$$"
   ]
  },
  {
   "cell_type": "markdown",
   "metadata": {},
   "source": [
    "For every row, and then I predict the i-th row's class with the function"
   ]
  },
  {
   "cell_type": "markdown",
   "metadata": {},
   "source": [
    "$$\n",
    "class(s_i) = \\left\\{\n",
    "\\begin{matrix}\n",
    "benign, s_i \\leq \\phi \\\\malignant\n",
    "\\end{matrix}\\right.\n",
    "$$"
   ]
  },
  {
   "cell_type": "markdown",
   "metadata": {},
   "source": [
    "Tests goes with accuracy ```97.28%```"
   ]
  },
  {
   "cell_type": "code",
   "execution_count": null,
   "metadata": {},
   "outputs": [],
   "source": []
  }
 ],
 "metadata": {
  "kernelspec": {
   "display_name": "Python 3",
   "language": "python",
   "name": "python3"
  },
  "language_info": {
   "codemirror_mode": {
    "name": "ipython",
    "version": 3
   },
   "file_extension": ".py",
   "mimetype": "text/x-python",
   "name": "python",
   "nbconvert_exporter": "python",
   "pygments_lexer": "ipython3",
   "version": "3.6.7"
  }
 },
 "nbformat": 4,
 "nbformat_minor": 2
}
