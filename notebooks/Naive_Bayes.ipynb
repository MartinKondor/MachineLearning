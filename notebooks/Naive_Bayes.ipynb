{
 "cells": [
  {
   "cell_type": "code",
   "execution_count": 1,
   "metadata": {
    "scrolled": false
   },
   "outputs": [
    {
     "name": "stdout",
     "output_type": "stream",
     "text": [
      "Text:\n",
      "--------------------\n",
      "From: matthew@phantom.gatech.edu (Matthew DeLuca)\n",
      "Subject: Re: Boom!  Whoosh......\n",
      "Organization: The Dorsai Grey Captains\n",
      "Lines: 13\n",
      "NNTP-Posting-Host: oit.gatech.edu\n",
      "\n",
      "In article <1993Apr21.024423.29182@mnemosyne.cs.du.edu> wdwells@nyx.cs.du.edu (David \"Fuzzy\" Wells) writes:\n",
      "\n",
      ">I hear <insert favorite rumor here> that it will supposedly coincide\n",
      ">with the Atlanta Olympics. \n",
      "\n",
      "Even worse, the city of Atlanta has a proposal before it to rent space on this\n",
      "orbiting billboard.  Considering the caliber of people running this city, \n",
      "there's no telling what we're going to have leering down at us from orbit.\n",
      "-- \n",
      "Matthew DeLuca\n",
      "Georgia Institute of Technology, Atlanta Georgia, 30332\n",
      "uucp:\t  ...!{decvax,hplabs,ncar,purdue,rutgers}!gatech!prism!matthew\n",
      "Internet: matthew@phantom.gatech.edu\n",
      "\n",
      "\n",
      "Has the class:\n",
      "--------------------\n",
      "sci.space\n"
     ]
    }
   ],
   "source": [
    "from sklearn.datasets import fetch_20newsgroups\n",
    "\n",
    "\n",
    "classes = ['sci.med', 'sci.space', 'alt.atheism']\n",
    "D = fetch_20newsgroups(categories=classes)\n",
    "\n",
    "print('Text:')\n",
    "print(20 * '-')\n",
    "print(D.data[0])\n",
    "print()\n",
    "print('Has the class:')\n",
    "print(20 * '-')\n",
    "print(classes[D.target[0] - 1])"
   ]
  },
  {
   "cell_type": "code",
   "execution_count": 2,
   "metadata": {},
   "outputs": [],
   "source": [
    "from sklearn.model_selection import train_test_split\n",
    "\n",
    "\n",
    "X_train, X_test, y_train, y_test = train_test_split(D.data, D.target, test_size=.1, random_state=1)"
   ]
  },
  {
   "cell_type": "markdown",
   "metadata": {},
   "source": [
    "### Preprocessing inputs"
   ]
  },
  {
   "cell_type": "code",
   "execution_count": 3,
   "metadata": {},
   "outputs": [],
   "source": [
    "from sklearn.feature_extraction.text import TfidfVectorizer\n",
    "\n",
    "\n",
    "vectorizer = TfidfVectorizer()\n",
    "X_train = vectorizer.fit_transform(X_train).toarray()\n",
    "X_test = vectorizer.transform(X_test).toarray()"
   ]
  },
  {
   "cell_type": "markdown",
   "metadata": {},
   "source": [
    "### Testing model"
   ]
  },
  {
   "cell_type": "code",
   "execution_count": 4,
   "metadata": {},
   "outputs": [
    {
     "data": {
      "text/plain": [
       "MultinomialNB(alpha=0.1, class_prior=None, fit_prior=True)"
      ]
     },
     "execution_count": 4,
     "metadata": {},
     "output_type": "execute_result"
    }
   ],
   "source": [
    "from sklearn.naive_bayes import MultinomialNB\n",
    "\n",
    "\n",
    "model = MultinomialNB(alpha=0.1)\n",
    "model.fit(X_train, y_train)"
   ]
  },
  {
   "cell_type": "code",
   "execution_count": 5,
   "metadata": {},
   "outputs": [
    {
     "name": "stdout",
     "output_type": "stream",
     "text": [
      "Score on train set: 0.9813279466451199\n",
      "Score on test set: 0.9218500797448165\n"
     ]
    }
   ],
   "source": [
    "from sklearn.model_selection import cross_val_score\n",
    "\n",
    "\n",
    "print('Score on train set:', cross_val_score(model, X_train, y_train, cv=3).mean())\n",
    "print('Score on test set:', cross_val_score(model, X_test, y_test, cv=3).mean())"
   ]
  },
  {
   "cell_type": "markdown",
   "metadata": {},
   "source": [
    "### Testing by hand"
   ]
  },
  {
   "cell_type": "code",
   "execution_count": 6,
   "metadata": {},
   "outputs": [],
   "source": [
    "def predict(text):\n",
    "    return classes[model.predict(vectorizer.transform([\n",
    "        text,\n",
    "    ]).toarray())[0] - 1]"
   ]
  },
  {
   "cell_type": "code",
   "execution_count": 7,
   "metadata": {},
   "outputs": [
    {
     "name": "stdout",
     "output_type": "stream",
     "text": [
      "Are antioxidants healthy? ---> sci.med\n",
      "I want to find double stars. ---> sci.space\n",
      "It's proving that god doesn't exists! ---> alt.atheism\n"
     ]
    }
   ],
   "source": [
    "dd = [\n",
    "    'Are antioxidants healthy?',\n",
    "    'I want to find double stars.',\n",
    "    'It\\'s proving that god doesn\\'t exists!'\n",
    "]\n",
    "\n",
    "for d in dd:\n",
    "    print(d, '--->', predict(d))"
   ]
  }
 ],
 "metadata": {
  "kernelspec": {
   "display_name": "Python 3",
   "language": "python",
   "name": "python3"
  },
  "language_info": {
   "codemirror_mode": {
    "name": "ipython",
    "version": 3
   },
   "file_extension": ".py",
   "mimetype": "text/x-python",
   "name": "python",
   "nbconvert_exporter": "python",
   "pygments_lexer": "ipython3",
   "version": "3.7.0"
  }
 },
 "nbformat": 4,
 "nbformat_minor": 2
}
